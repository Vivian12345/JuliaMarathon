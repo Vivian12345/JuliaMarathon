{
 "cells": [
  {
   "cell_type": "markdown",
   "metadata": {},
   "source": [
    "假設有一個直徑長為 1 的圓形，要使用蒙地卡羅方法計算其面積，我們隨機塞入 N 個點到上面的正方形當中，有些點會落在圓形內而有些點會在圓形外，算出落在圓形內點的數目就可以得到圓形的面積。<br/>\n",
    "![](https://julia-fileentity.cupoy.com/marathon/homework/example/1589343239237/circle.png?t=1589343067383)\n",
    "<br/>\n",
    "假設半徑為 $r$，圓形面積的計算公式為 $$\\pi r^2=\\pi\\times0.5^2=\\frac{\\pi}{4}$$<br/>\n",
    "<br/>\n",
    "並以此得到 $$\\pi=4\\times面積=4\\times\\frac{落在圓內的點}{所有的點}$$"
   ]
  },
  {
   "cell_type": "code",
   "execution_count": 5,
   "metadata": {},
   "outputs": [
    {
     "data": {
      "text/plain": [
       "0"
      ]
     },
     "execution_count": 5,
     "metadata": {},
     "output_type": "execute_result"
    }
   ],
   "source": [
    "radius = 0.5\n",
    "n = 100000\n",
    "count = 0"
   ]
  },
  {
   "cell_type": "markdown",
   "metadata": {},
   "source": [
    "隨機產生兩個 0 到 1 之間的亂數以做為點的座標，並用迴圈計算及判斷點是否落在圓內 (迴圈及條件式的語法將會在 Day_007 詳細說明)\n",
    "\n",
    "[提示]\n",
    "\n",
    "隨機數的產生，請回顧 Day_004 的內容。<br/>\n",
    "隨機點到中心點的距離，為 $\\sqrt{(x-0.5)^2 + (y-0.5)^2}$，可以呼叫內建函式 sqrt() 開根號。"
   ]
  },
  {
   "cell_type": "code",
   "execution_count": 9,
   "metadata": {},
   "outputs": [],
   "source": [
    "for i = 1:n\n",
    "    x = rand()\n",
    "    y = rand()\n",
    "\n",
    "    # 計算隨機點到中心點的距離，若距離小於半徑，表示點落在圓內\n",
    "    \n",
    "    dist = sqrt((x-0.5)^2+(y-0.5)^2)\n",
    "    \n",
    "    if dist <= radius\n",
    "        count += 1\n",
    "    end\n",
    "end"
   ]
  },
  {
   "cell_type": "code",
   "execution_count": 10,
   "metadata": {},
   "outputs": [
    {
     "data": {
      "text/plain": [
       "3.14092"
      ]
     },
     "execution_count": 10,
     "metadata": {},
     "output_type": "execute_result"
    }
   ],
   "source": [
    "mypi = 4*count/n "
   ]
  }
 ],
 "metadata": {
  "kernelspec": {
   "display_name": "Julia 1.4.2",
   "language": "julia",
   "name": "julia-1.4"
  },
  "language_info": {
   "file_extension": ".jl",
   "mimetype": "application/julia",
   "name": "julia",
   "version": "1.4.2"
  }
 },
 "nbformat": 4,
 "nbformat_minor": 2
}
